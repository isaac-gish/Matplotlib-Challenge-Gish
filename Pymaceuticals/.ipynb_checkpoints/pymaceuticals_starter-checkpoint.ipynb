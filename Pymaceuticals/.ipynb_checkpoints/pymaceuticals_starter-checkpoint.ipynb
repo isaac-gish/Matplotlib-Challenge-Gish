{
 "cells": [
  {
   "cell_type": "markdown",
   "metadata": {},
   "source": [
    "# Pymaceuticals Inc.\n",
    "---\n",
    "\n",
    "### Analysis\n",
    "\n",
    "- Add your analysis here.\n",
    " "
   ]
  },
  {
   "cell_type": "code",
   "execution_count": 2,
   "metadata": {
    "tags": []
   },
   "outputs": [
    {
     "data": {
      "text/html": [
       "<div>\n",
       "<style scoped>\n",
       "    .dataframe tbody tr th:only-of-type {\n",
       "        vertical-align: middle;\n",
       "    }\n",
       "\n",
       "    .dataframe tbody tr th {\n",
       "        vertical-align: top;\n",
       "    }\n",
       "\n",
       "    .dataframe thead th {\n",
       "        text-align: right;\n",
       "    }\n",
       "</style>\n",
       "<table border=\"1\" class=\"dataframe\">\n",
       "  <thead>\n",
       "    <tr style=\"text-align: right;\">\n",
       "      <th></th>\n",
       "      <th>Mouse ID</th>\n",
       "      <th>Timepoint</th>\n",
       "      <th>Tumor Volume (mm3)</th>\n",
       "      <th>Metastatic Sites</th>\n",
       "      <th>Drug Regimen</th>\n",
       "      <th>Sex</th>\n",
       "      <th>Age_months</th>\n",
       "      <th>Weight (g)</th>\n",
       "    </tr>\n",
       "  </thead>\n",
       "  <tbody>\n",
       "    <tr>\n",
       "      <th>0</th>\n",
       "      <td>b128</td>\n",
       "      <td>0</td>\n",
       "      <td>45.0</td>\n",
       "      <td>0</td>\n",
       "      <td>Capomulin</td>\n",
       "      <td>Female</td>\n",
       "      <td>9</td>\n",
       "      <td>22</td>\n",
       "    </tr>\n",
       "    <tr>\n",
       "      <th>1</th>\n",
       "      <td>f932</td>\n",
       "      <td>0</td>\n",
       "      <td>45.0</td>\n",
       "      <td>0</td>\n",
       "      <td>Ketapril</td>\n",
       "      <td>Male</td>\n",
       "      <td>15</td>\n",
       "      <td>29</td>\n",
       "    </tr>\n",
       "    <tr>\n",
       "      <th>2</th>\n",
       "      <td>g107</td>\n",
       "      <td>0</td>\n",
       "      <td>45.0</td>\n",
       "      <td>0</td>\n",
       "      <td>Ketapril</td>\n",
       "      <td>Female</td>\n",
       "      <td>2</td>\n",
       "      <td>29</td>\n",
       "    </tr>\n",
       "    <tr>\n",
       "      <th>3</th>\n",
       "      <td>a457</td>\n",
       "      <td>0</td>\n",
       "      <td>45.0</td>\n",
       "      <td>0</td>\n",
       "      <td>Ketapril</td>\n",
       "      <td>Female</td>\n",
       "      <td>11</td>\n",
       "      <td>30</td>\n",
       "    </tr>\n",
       "    <tr>\n",
       "      <th>4</th>\n",
       "      <td>c819</td>\n",
       "      <td>0</td>\n",
       "      <td>45.0</td>\n",
       "      <td>0</td>\n",
       "      <td>Ketapril</td>\n",
       "      <td>Male</td>\n",
       "      <td>21</td>\n",
       "      <td>25</td>\n",
       "    </tr>\n",
       "  </tbody>\n",
       "</table>\n",
       "</div>"
      ],
      "text/plain": [
       "  Mouse ID  Timepoint  Tumor Volume (mm3)  Metastatic Sites Drug Regimen  \\\n",
       "0     b128          0                45.0                 0    Capomulin   \n",
       "1     f932          0                45.0                 0     Ketapril   \n",
       "2     g107          0                45.0                 0     Ketapril   \n",
       "3     a457          0                45.0                 0     Ketapril   \n",
       "4     c819          0                45.0                 0     Ketapril   \n",
       "\n",
       "      Sex  Age_months  Weight (g)  \n",
       "0  Female           9          22  \n",
       "1    Male          15          29  \n",
       "2  Female           2          29  \n",
       "3  Female          11          30  \n",
       "4    Male          21          25  "
      ]
     },
     "execution_count": 2,
     "metadata": {},
     "output_type": "execute_result"
    }
   ],
   "source": [
    "# Dependencies and Setup\n",
    "import matplotlib.pyplot as plt\n",
    "import pandas as pd\n",
    "import scipy.stats as st\n",
    "\n",
    "# Study data files\n",
    "mouse_metadata_path = \"data/Mouse_metadata.csv\"\n",
    "study_results_path = \"data/Study_results.csv\"\n",
    "\n",
    "# Read the mouse data and the study results\n",
    "mouse_metadata = pd.read_csv(mouse_metadata_path)\n",
    "study_results = pd.read_csv(study_results_path)\n",
    "\n",
    "# Combine the data into a single DataFrame\n",
    "both = pd.merge(study_results, mouse_metadata, how='inner', on='Mouse ID')\n",
    "\n",
    "#Reset Index\n",
    "both = both.sort_values(['Timepoint','Metastatic Sites'], ascending = [True, False]).reset_index(drop = True)\n",
    "\n",
    "\n",
    "# Display the data table for preview\n",
    "both.head()"
   ]
  },
  {
   "cell_type": "code",
   "execution_count": 3,
   "metadata": {
    "tags": []
   },
   "outputs": [
    {
     "data": {
      "text/plain": [
       "249"
      ]
     },
     "execution_count": 3,
     "metadata": {},
     "output_type": "execute_result"
    }
   ],
   "source": [
    "# Checking the number of mice.\n",
    "both['Mouse ID'].nunique()"
   ]
  },
  {
   "cell_type": "code",
   "execution_count": 4,
   "metadata": {
    "tags": []
   },
   "outputs": [
    {
     "data": {
      "text/plain": [
       "'g989'"
      ]
     },
     "execution_count": 4,
     "metadata": {},
     "output_type": "execute_result"
    }
   ],
   "source": [
    "# Our data should be uniquely identified by Mouse ID and Timepoint\n",
    "# Get the duplicate mice by ID number that shows up for Mouse ID and Timepoint.\n",
    "\n",
    "#Create a dataframe only with duplicated IDs\n",
    "ID = both[both.duplicated(subset = ['Mouse ID', 'Timepoint'], keep = False)]\n",
    "\n",
    "#Find what value(s) are in the dataframe\n",
    "duplicate_ids = ID['Mouse ID'].unique()\n",
    "duplicate_ids[0]"
   ]
  },
  {
   "cell_type": "code",
   "execution_count": 5,
   "metadata": {
    "tags": []
   },
   "outputs": [
    {
     "data": {
      "text/html": [
       "<div>\n",
       "<style scoped>\n",
       "    .dataframe tbody tr th:only-of-type {\n",
       "        vertical-align: middle;\n",
       "    }\n",
       "\n",
       "    .dataframe tbody tr th {\n",
       "        vertical-align: top;\n",
       "    }\n",
       "\n",
       "    .dataframe thead th {\n",
       "        text-align: right;\n",
       "    }\n",
       "</style>\n",
       "<table border=\"1\" class=\"dataframe\">\n",
       "  <thead>\n",
       "    <tr style=\"text-align: right;\">\n",
       "      <th></th>\n",
       "      <th>Mouse ID</th>\n",
       "      <th>Timepoint</th>\n",
       "      <th>Tumor Volume (mm3)</th>\n",
       "      <th>Metastatic Sites</th>\n",
       "      <th>Drug Regimen</th>\n",
       "      <th>Sex</th>\n",
       "      <th>Age_months</th>\n",
       "      <th>Weight (g)</th>\n",
       "    </tr>\n",
       "  </thead>\n",
       "  <tbody>\n",
       "    <tr>\n",
       "      <th>107</th>\n",
       "      <td>g989</td>\n",
       "      <td>0</td>\n",
       "      <td>45.000000</td>\n",
       "      <td>0</td>\n",
       "      <td>Propriva</td>\n",
       "      <td>Female</td>\n",
       "      <td>21</td>\n",
       "      <td>26</td>\n",
       "    </tr>\n",
       "    <tr>\n",
       "      <th>108</th>\n",
       "      <td>g989</td>\n",
       "      <td>0</td>\n",
       "      <td>45.000000</td>\n",
       "      <td>0</td>\n",
       "      <td>Propriva</td>\n",
       "      <td>Female</td>\n",
       "      <td>21</td>\n",
       "      <td>26</td>\n",
       "    </tr>\n",
       "    <tr>\n",
       "      <th>389</th>\n",
       "      <td>g989</td>\n",
       "      <td>5</td>\n",
       "      <td>48.786801</td>\n",
       "      <td>0</td>\n",
       "      <td>Propriva</td>\n",
       "      <td>Female</td>\n",
       "      <td>21</td>\n",
       "      <td>26</td>\n",
       "    </tr>\n",
       "    <tr>\n",
       "      <th>390</th>\n",
       "      <td>g989</td>\n",
       "      <td>5</td>\n",
       "      <td>47.570392</td>\n",
       "      <td>0</td>\n",
       "      <td>Propriva</td>\n",
       "      <td>Female</td>\n",
       "      <td>21</td>\n",
       "      <td>26</td>\n",
       "    </tr>\n",
       "    <tr>\n",
       "      <th>646</th>\n",
       "      <td>g989</td>\n",
       "      <td>10</td>\n",
       "      <td>51.745156</td>\n",
       "      <td>0</td>\n",
       "      <td>Propriva</td>\n",
       "      <td>Female</td>\n",
       "      <td>21</td>\n",
       "      <td>26</td>\n",
       "    </tr>\n",
       "    <tr>\n",
       "      <th>647</th>\n",
       "      <td>g989</td>\n",
       "      <td>10</td>\n",
       "      <td>49.880528</td>\n",
       "      <td>0</td>\n",
       "      <td>Propriva</td>\n",
       "      <td>Female</td>\n",
       "      <td>21</td>\n",
       "      <td>26</td>\n",
       "    </tr>\n",
       "    <tr>\n",
       "      <th>782</th>\n",
       "      <td>g989</td>\n",
       "      <td>15</td>\n",
       "      <td>51.325852</td>\n",
       "      <td>1</td>\n",
       "      <td>Propriva</td>\n",
       "      <td>Female</td>\n",
       "      <td>21</td>\n",
       "      <td>26</td>\n",
       "    </tr>\n",
       "    <tr>\n",
       "      <th>872</th>\n",
       "      <td>g989</td>\n",
       "      <td>15</td>\n",
       "      <td>53.442020</td>\n",
       "      <td>0</td>\n",
       "      <td>Propriva</td>\n",
       "      <td>Female</td>\n",
       "      <td>21</td>\n",
       "      <td>26</td>\n",
       "    </tr>\n",
       "    <tr>\n",
       "      <th>1002</th>\n",
       "      <td>g989</td>\n",
       "      <td>20</td>\n",
       "      <td>55.326122</td>\n",
       "      <td>1</td>\n",
       "      <td>Propriva</td>\n",
       "      <td>Female</td>\n",
       "      <td>21</td>\n",
       "      <td>26</td>\n",
       "    </tr>\n",
       "    <tr>\n",
       "      <th>1003</th>\n",
       "      <td>g989</td>\n",
       "      <td>20</td>\n",
       "      <td>54.657650</td>\n",
       "      <td>1</td>\n",
       "      <td>Propriva</td>\n",
       "      <td>Female</td>\n",
       "      <td>21</td>\n",
       "      <td>26</td>\n",
       "    </tr>\n",
       "    <tr>\n",
       "      <th>1218</th>\n",
       "      <td>g989</td>\n",
       "      <td>25</td>\n",
       "      <td>56.045564</td>\n",
       "      <td>1</td>\n",
       "      <td>Propriva</td>\n",
       "      <td>Female</td>\n",
       "      <td>21</td>\n",
       "      <td>26</td>\n",
       "    </tr>\n",
       "    <tr>\n",
       "      <th>1405</th>\n",
       "      <td>g989</td>\n",
       "      <td>30</td>\n",
       "      <td>59.082294</td>\n",
       "      <td>1</td>\n",
       "      <td>Propriva</td>\n",
       "      <td>Female</td>\n",
       "      <td>21</td>\n",
       "      <td>26</td>\n",
       "    </tr>\n",
       "    <tr>\n",
       "      <th>1528</th>\n",
       "      <td>g989</td>\n",
       "      <td>35</td>\n",
       "      <td>62.570880</td>\n",
       "      <td>2</td>\n",
       "      <td>Propriva</td>\n",
       "      <td>Female</td>\n",
       "      <td>21</td>\n",
       "      <td>26</td>\n",
       "    </tr>\n",
       "  </tbody>\n",
       "</table>\n",
       "</div>"
      ],
      "text/plain": [
       "     Mouse ID  Timepoint  Tumor Volume (mm3)  Metastatic Sites Drug Regimen  \\\n",
       "107      g989          0           45.000000                 0     Propriva   \n",
       "108      g989          0           45.000000                 0     Propriva   \n",
       "389      g989          5           48.786801                 0     Propriva   \n",
       "390      g989          5           47.570392                 0     Propriva   \n",
       "646      g989         10           51.745156                 0     Propriva   \n",
       "647      g989         10           49.880528                 0     Propriva   \n",
       "782      g989         15           51.325852                 1     Propriva   \n",
       "872      g989         15           53.442020                 0     Propriva   \n",
       "1002     g989         20           55.326122                 1     Propriva   \n",
       "1003     g989         20           54.657650                 1     Propriva   \n",
       "1218     g989         25           56.045564                 1     Propriva   \n",
       "1405     g989         30           59.082294                 1     Propriva   \n",
       "1528     g989         35           62.570880                 2     Propriva   \n",
       "\n",
       "         Sex  Age_months  Weight (g)  \n",
       "107   Female          21          26  \n",
       "108   Female          21          26  \n",
       "389   Female          21          26  \n",
       "390   Female          21          26  \n",
       "646   Female          21          26  \n",
       "647   Female          21          26  \n",
       "782   Female          21          26  \n",
       "872   Female          21          26  \n",
       "1002  Female          21          26  \n",
       "1003  Female          21          26  \n",
       "1218  Female          21          26  \n",
       "1405  Female          21          26  \n",
       "1528  Female          21          26  "
      ]
     },
     "execution_count": 5,
     "metadata": {},
     "output_type": "execute_result"
    }
   ],
   "source": [
    "# Optional: Get all the data for the duplicate mouse ID. \n",
    "both.loc[both['Mouse ID'] == duplicate_ids[0]]"
   ]
  },
  {
   "cell_type": "code",
   "execution_count": 6,
   "metadata": {
    "tags": []
   },
   "outputs": [
    {
     "data": {
      "text/html": [
       "<div>\n",
       "<style scoped>\n",
       "    .dataframe tbody tr th:only-of-type {\n",
       "        vertical-align: middle;\n",
       "    }\n",
       "\n",
       "    .dataframe tbody tr th {\n",
       "        vertical-align: top;\n",
       "    }\n",
       "\n",
       "    .dataframe thead th {\n",
       "        text-align: right;\n",
       "    }\n",
       "</style>\n",
       "<table border=\"1\" class=\"dataframe\">\n",
       "  <thead>\n",
       "    <tr style=\"text-align: right;\">\n",
       "      <th></th>\n",
       "      <th>Mouse ID</th>\n",
       "      <th>Timepoint</th>\n",
       "      <th>Tumor Volume (mm3)</th>\n",
       "      <th>Metastatic Sites</th>\n",
       "      <th>Drug Regimen</th>\n",
       "      <th>Sex</th>\n",
       "      <th>Age_months</th>\n",
       "      <th>Weight (g)</th>\n",
       "    </tr>\n",
       "  </thead>\n",
       "  <tbody>\n",
       "    <tr>\n",
       "      <th>0</th>\n",
       "      <td>b128</td>\n",
       "      <td>0</td>\n",
       "      <td>45.0</td>\n",
       "      <td>0</td>\n",
       "      <td>Capomulin</td>\n",
       "      <td>Female</td>\n",
       "      <td>9</td>\n",
       "      <td>22</td>\n",
       "    </tr>\n",
       "    <tr>\n",
       "      <th>1</th>\n",
       "      <td>f932</td>\n",
       "      <td>0</td>\n",
       "      <td>45.0</td>\n",
       "      <td>0</td>\n",
       "      <td>Ketapril</td>\n",
       "      <td>Male</td>\n",
       "      <td>15</td>\n",
       "      <td>29</td>\n",
       "    </tr>\n",
       "    <tr>\n",
       "      <th>2</th>\n",
       "      <td>g107</td>\n",
       "      <td>0</td>\n",
       "      <td>45.0</td>\n",
       "      <td>0</td>\n",
       "      <td>Ketapril</td>\n",
       "      <td>Female</td>\n",
       "      <td>2</td>\n",
       "      <td>29</td>\n",
       "    </tr>\n",
       "    <tr>\n",
       "      <th>3</th>\n",
       "      <td>a457</td>\n",
       "      <td>0</td>\n",
       "      <td>45.0</td>\n",
       "      <td>0</td>\n",
       "      <td>Ketapril</td>\n",
       "      <td>Female</td>\n",
       "      <td>11</td>\n",
       "      <td>30</td>\n",
       "    </tr>\n",
       "    <tr>\n",
       "      <th>4</th>\n",
       "      <td>c819</td>\n",
       "      <td>0</td>\n",
       "      <td>45.0</td>\n",
       "      <td>0</td>\n",
       "      <td>Ketapril</td>\n",
       "      <td>Male</td>\n",
       "      <td>21</td>\n",
       "      <td>25</td>\n",
       "    </tr>\n",
       "  </tbody>\n",
       "</table>\n",
       "</div>"
      ],
      "text/plain": [
       "  Mouse ID  Timepoint  Tumor Volume (mm3)  Metastatic Sites Drug Regimen  \\\n",
       "0     b128          0                45.0                 0    Capomulin   \n",
       "1     f932          0                45.0                 0     Ketapril   \n",
       "2     g107          0                45.0                 0     Ketapril   \n",
       "3     a457          0                45.0                 0     Ketapril   \n",
       "4     c819          0                45.0                 0     Ketapril   \n",
       "\n",
       "      Sex  Age_months  Weight (g)  \n",
       "0  Female           9          22  \n",
       "1    Male          15          29  \n",
       "2  Female           2          29  \n",
       "3  Female          11          30  \n",
       "4    Male          21          25  "
      ]
     },
     "execution_count": 6,
     "metadata": {},
     "output_type": "execute_result"
    }
   ],
   "source": [
    "# Create a clean DataFrame by dropping the duplicate mouse by its ID.\n",
    "\n",
    "#Create a new dataframe only locating the value not equal to the duplicated value\n",
    "both_cleaned = both.loc[both['Mouse ID'] != duplicate_ids[0]]\n",
    "both_cleaned.head()"
   ]
  },
  {
   "cell_type": "code",
   "execution_count": 7,
   "metadata": {
    "tags": []
   },
   "outputs": [
    {
     "data": {
      "text/plain": [
       "248"
      ]
     },
     "execution_count": 7,
     "metadata": {},
     "output_type": "execute_result"
    }
   ],
   "source": [
    "# Checking the number of mice in the clean DataFrame.\n",
    "both_cleaned['Mouse ID'].nunique()"
   ]
  },
  {
   "cell_type": "markdown",
   "metadata": {},
   "source": [
    "## Summary Statistics"
   ]
  },
  {
   "cell_type": "code",
   "execution_count": 8,
   "metadata": {
    "tags": []
   },
   "outputs": [
    {
     "data": {
      "text/html": [
       "<div>\n",
       "<style scoped>\n",
       "    .dataframe tbody tr th:only-of-type {\n",
       "        vertical-align: middle;\n",
       "    }\n",
       "\n",
       "    .dataframe tbody tr th {\n",
       "        vertical-align: top;\n",
       "    }\n",
       "\n",
       "    .dataframe thead th {\n",
       "        text-align: right;\n",
       "    }\n",
       "</style>\n",
       "<table border=\"1\" class=\"dataframe\">\n",
       "  <thead>\n",
       "    <tr style=\"text-align: right;\">\n",
       "      <th></th>\n",
       "      <th>Mean</th>\n",
       "      <th>Median</th>\n",
       "      <th>Variance</th>\n",
       "      <th>Std. Dev</th>\n",
       "      <th>Std. Error</th>\n",
       "    </tr>\n",
       "    <tr>\n",
       "      <th>Drug Regimen</th>\n",
       "      <th></th>\n",
       "      <th></th>\n",
       "      <th></th>\n",
       "      <th></th>\n",
       "      <th></th>\n",
       "    </tr>\n",
       "  </thead>\n",
       "  <tbody>\n",
       "    <tr>\n",
       "      <th>Capomulin</th>\n",
       "      <td>40.675741</td>\n",
       "      <td>41.557809</td>\n",
       "      <td>24.947764</td>\n",
       "      <td>4.994774</td>\n",
       "      <td>0.329346</td>\n",
       "    </tr>\n",
       "    <tr>\n",
       "      <th>Ceftamin</th>\n",
       "      <td>52.591172</td>\n",
       "      <td>51.776157</td>\n",
       "      <td>39.290177</td>\n",
       "      <td>6.268188</td>\n",
       "      <td>0.469821</td>\n",
       "    </tr>\n",
       "    <tr>\n",
       "      <th>Infubinol</th>\n",
       "      <td>52.884795</td>\n",
       "      <td>51.820584</td>\n",
       "      <td>43.128684</td>\n",
       "      <td>6.567243</td>\n",
       "      <td>0.492236</td>\n",
       "    </tr>\n",
       "    <tr>\n",
       "      <th>Ketapril</th>\n",
       "      <td>55.235638</td>\n",
       "      <td>53.698743</td>\n",
       "      <td>68.553577</td>\n",
       "      <td>8.279709</td>\n",
       "      <td>0.603860</td>\n",
       "    </tr>\n",
       "    <tr>\n",
       "      <th>Naftisol</th>\n",
       "      <td>54.331565</td>\n",
       "      <td>52.509285</td>\n",
       "      <td>66.173479</td>\n",
       "      <td>8.134708</td>\n",
       "      <td>0.596466</td>\n",
       "    </tr>\n",
       "    <tr>\n",
       "      <th>Placebo</th>\n",
       "      <td>54.033581</td>\n",
       "      <td>52.288934</td>\n",
       "      <td>61.168083</td>\n",
       "      <td>7.821003</td>\n",
       "      <td>0.581331</td>\n",
       "    </tr>\n",
       "    <tr>\n",
       "      <th>Propriva</th>\n",
       "      <td>52.320930</td>\n",
       "      <td>50.446266</td>\n",
       "      <td>43.852013</td>\n",
       "      <td>6.622085</td>\n",
       "      <td>0.544332</td>\n",
       "    </tr>\n",
       "    <tr>\n",
       "      <th>Ramicane</th>\n",
       "      <td>40.216745</td>\n",
       "      <td>40.673236</td>\n",
       "      <td>23.486704</td>\n",
       "      <td>4.846308</td>\n",
       "      <td>0.320955</td>\n",
       "    </tr>\n",
       "    <tr>\n",
       "      <th>Stelasyn</th>\n",
       "      <td>54.233149</td>\n",
       "      <td>52.431737</td>\n",
       "      <td>59.450562</td>\n",
       "      <td>7.710419</td>\n",
       "      <td>0.573111</td>\n",
       "    </tr>\n",
       "    <tr>\n",
       "      <th>Zoniferol</th>\n",
       "      <td>53.236507</td>\n",
       "      <td>51.818479</td>\n",
       "      <td>48.533355</td>\n",
       "      <td>6.966589</td>\n",
       "      <td>0.516398</td>\n",
       "    </tr>\n",
       "  </tbody>\n",
       "</table>\n",
       "</div>"
      ],
      "text/plain": [
       "                   Mean     Median   Variance  Std. Dev  Std. Error\n",
       "Drug Regimen                                                       \n",
       "Capomulin     40.675741  41.557809  24.947764  4.994774    0.329346\n",
       "Ceftamin      52.591172  51.776157  39.290177  6.268188    0.469821\n",
       "Infubinol     52.884795  51.820584  43.128684  6.567243    0.492236\n",
       "Ketapril      55.235638  53.698743  68.553577  8.279709    0.603860\n",
       "Naftisol      54.331565  52.509285  66.173479  8.134708    0.596466\n",
       "Placebo       54.033581  52.288934  61.168083  7.821003    0.581331\n",
       "Propriva      52.320930  50.446266  43.852013  6.622085    0.544332\n",
       "Ramicane      40.216745  40.673236  23.486704  4.846308    0.320955\n",
       "Stelasyn      54.233149  52.431737  59.450562  7.710419    0.573111\n",
       "Zoniferol     53.236507  51.818479  48.533355  6.966589    0.516398"
      ]
     },
     "execution_count": 8,
     "metadata": {},
     "output_type": "execute_result"
    }
   ],
   "source": [
    "# Generate a summary statistics table of mean, median, variance, standard deviation, and SEM of the tumor volume for each regimen\n",
    "#TV = Tumor Volume\n",
    "Mean_TV = pd.DataFrame(both_cleaned.groupby(['Drug Regimen'])[\"Tumor Volume (mm3)\"].mean()).rename(columns={'Tumor Volume (mm3)':'Mean'})\n",
    "\n",
    "Median_TV= pd.DataFrame(both_cleaned.groupby(['Drug Regimen'])[\"Tumor Volume (mm3)\"].median()).rename(columns={'Tumor Volume (mm3)':'Median'})\n",
    "\n",
    "Variance_TV = pd.DataFrame(both_cleaned.groupby(['Drug Regimen'])[\"Tumor Volume (mm3)\"].var()).rename(columns={'Tumor Volume (mm3)':'Variance'})\n",
    "\n",
    "STD_TV = pd.DataFrame(both_cleaned.groupby(['Drug Regimen'])[\"Tumor Volume (mm3)\"].std()).rename(columns={'Tumor Volume (mm3)':'Std. Dev'})\n",
    "\n",
    "STE_TV = pd.DataFrame(both_cleaned.groupby(['Drug Regimen'])[\"Tumor Volume (mm3)\"].sem()).rename(columns={'Tumor Volume (mm3)':'Std. Error'})\n",
    "# Use groupby and summary statistical methods to calculate the following properties of each drug regimen: \n",
    "# mean, median, variance, standard deviation, and SEM of the tumor volume. \n",
    "# Assemble the resulting series into a single summary DataFrame.\n",
    "summary_stats = pd.merge(Mean_TV, Median_TV, how=\"inner\", on=['Drug Regimen'])\n",
    "summary_stats = pd.merge(summary_stats, Variance_TV, how=\"inner\", on=['Drug Regimen'])\n",
    "summary_stats = pd.merge(summary_stats, STD_TV, how=\"inner\", on=['Drug Regimen'])\n",
    "summary_stats = pd.merge(summary_stats, STE_TV, how=\"inner\", on=['Drug Regimen'])\n",
    "\n",
    "summary_stats"
   ]
  },
  {
   "cell_type": "code",
   "execution_count": 9,
   "metadata": {
    "tags": []
   },
   "outputs": [
    {
     "data": {
      "text/html": [
       "<div>\n",
       "<style scoped>\n",
       "    .dataframe tbody tr th:only-of-type {\n",
       "        vertical-align: middle;\n",
       "    }\n",
       "\n",
       "    .dataframe tbody tr th {\n",
       "        vertical-align: top;\n",
       "    }\n",
       "\n",
       "    .dataframe thead th {\n",
       "        text-align: right;\n",
       "    }\n",
       "</style>\n",
       "<table border=\"1\" class=\"dataframe\">\n",
       "  <thead>\n",
       "    <tr style=\"text-align: right;\">\n",
       "      <th></th>\n",
       "      <th>mean</th>\n",
       "      <th>median</th>\n",
       "      <th>var</th>\n",
       "      <th>std</th>\n",
       "      <th>sem</th>\n",
       "    </tr>\n",
       "    <tr>\n",
       "      <th>Drug Regimen</th>\n",
       "      <th></th>\n",
       "      <th></th>\n",
       "      <th></th>\n",
       "      <th></th>\n",
       "      <th></th>\n",
       "    </tr>\n",
       "  </thead>\n",
       "  <tbody>\n",
       "    <tr>\n",
       "      <th>Capomulin</th>\n",
       "      <td>40.675741</td>\n",
       "      <td>41.557809</td>\n",
       "      <td>24.947764</td>\n",
       "      <td>4.994774</td>\n",
       "      <td>0.329346</td>\n",
       "    </tr>\n",
       "    <tr>\n",
       "      <th>Ceftamin</th>\n",
       "      <td>52.591172</td>\n",
       "      <td>51.776157</td>\n",
       "      <td>39.290177</td>\n",
       "      <td>6.268188</td>\n",
       "      <td>0.469821</td>\n",
       "    </tr>\n",
       "    <tr>\n",
       "      <th>Infubinol</th>\n",
       "      <td>52.884795</td>\n",
       "      <td>51.820584</td>\n",
       "      <td>43.128684</td>\n",
       "      <td>6.567243</td>\n",
       "      <td>0.492236</td>\n",
       "    </tr>\n",
       "    <tr>\n",
       "      <th>Ketapril</th>\n",
       "      <td>55.235638</td>\n",
       "      <td>53.698743</td>\n",
       "      <td>68.553577</td>\n",
       "      <td>8.279709</td>\n",
       "      <td>0.603860</td>\n",
       "    </tr>\n",
       "    <tr>\n",
       "      <th>Naftisol</th>\n",
       "      <td>54.331565</td>\n",
       "      <td>52.509285</td>\n",
       "      <td>66.173479</td>\n",
       "      <td>8.134708</td>\n",
       "      <td>0.596466</td>\n",
       "    </tr>\n",
       "    <tr>\n",
       "      <th>Placebo</th>\n",
       "      <td>54.033581</td>\n",
       "      <td>52.288934</td>\n",
       "      <td>61.168083</td>\n",
       "      <td>7.821003</td>\n",
       "      <td>0.581331</td>\n",
       "    </tr>\n",
       "    <tr>\n",
       "      <th>Propriva</th>\n",
       "      <td>52.320930</td>\n",
       "      <td>50.446266</td>\n",
       "      <td>43.852013</td>\n",
       "      <td>6.622085</td>\n",
       "      <td>0.544332</td>\n",
       "    </tr>\n",
       "    <tr>\n",
       "      <th>Ramicane</th>\n",
       "      <td>40.216745</td>\n",
       "      <td>40.673236</td>\n",
       "      <td>23.486704</td>\n",
       "      <td>4.846308</td>\n",
       "      <td>0.320955</td>\n",
       "    </tr>\n",
       "    <tr>\n",
       "      <th>Stelasyn</th>\n",
       "      <td>54.233149</td>\n",
       "      <td>52.431737</td>\n",
       "      <td>59.450562</td>\n",
       "      <td>7.710419</td>\n",
       "      <td>0.573111</td>\n",
       "    </tr>\n",
       "    <tr>\n",
       "      <th>Zoniferol</th>\n",
       "      <td>53.236507</td>\n",
       "      <td>51.818479</td>\n",
       "      <td>48.533355</td>\n",
       "      <td>6.966589</td>\n",
       "      <td>0.516398</td>\n",
       "    </tr>\n",
       "  </tbody>\n",
       "</table>\n",
       "</div>"
      ],
      "text/plain": [
       "                   mean     median        var       std       sem\n",
       "Drug Regimen                                                     \n",
       "Capomulin     40.675741  41.557809  24.947764  4.994774  0.329346\n",
       "Ceftamin      52.591172  51.776157  39.290177  6.268188  0.469821\n",
       "Infubinol     52.884795  51.820584  43.128684  6.567243  0.492236\n",
       "Ketapril      55.235638  53.698743  68.553577  8.279709  0.603860\n",
       "Naftisol      54.331565  52.509285  66.173479  8.134708  0.596466\n",
       "Placebo       54.033581  52.288934  61.168083  7.821003  0.581331\n",
       "Propriva      52.320930  50.446266  43.852013  6.622085  0.544332\n",
       "Ramicane      40.216745  40.673236  23.486704  4.846308  0.320955\n",
       "Stelasyn      54.233149  52.431737  59.450562  7.710419  0.573111\n",
       "Zoniferol     53.236507  51.818479  48.533355  6.966589  0.516398"
      ]
     },
     "execution_count": 9,
     "metadata": {},
     "output_type": "execute_result"
    }
   ],
   "source": [
    "# A more advanced method to generate a summary statistics table of mean, median, variance, standard deviation,\n",
    "# and SEM of the tumor volume for each regimen (only one method is required in the solution)\n",
    "\n",
    "# Using the aggregation method, produce the same summary statistics in a single line\n",
    "aggregated_stats = both_cleaned.groupby(['Drug Regimen'])[\"Tumor Volume (mm3)\"].agg(['mean','median','var', 'std', 'sem'])\n",
    "aggregated_stats"
   ]
  },
  {
   "cell_type": "markdown",
   "metadata": {},
   "source": [
    "## Bar and Pie Charts"
   ]
  },
  {
   "cell_type": "code",
   "execution_count": 10,
   "metadata": {
    "tags": []
   },
   "outputs": [
    {
     "data": {
      "image/png": "[encoded data removed]",
      "text/plain": [
       "<Figure size 640x480 with 1 Axes>"
      ]
     },
     "metadata": {},
     "output_type": "display_data"
    }
   ],
   "source": [
    "# Generate a bar plot showing the total number of rows (Mouse ID/Timepoints) for each drug regimen using Pandas.\n",
    "mouse = both_cleaned.groupby(['Drug Regimen'])['Mouse ID'].count().sort_values(ascending=False)\n",
    "\n",
    "#Create variables to store values\n",
    "drug = list(mouse.index.values)\n",
    "timepoints = list(mouse)\n",
    "\n",
    "# Set up the plot\n",
    "plt.bar(drug, timepoints)\n",
    "plt.xlabel(\"Drug\")\n",
    "plt.ylabel(\"# of Timepoints\")\n",
    "plt.xticks(rotation=45)\n",
    "plt.xlim(-0.5, len(drug) - 0.5)\n",
    "plt.ylim(0, max(timepoints) + 10)\n",
    "\n",
    "# Show plot\n",
    "plt.show()\n"
   ]
  },
  {
   "cell_type": "code",
   "execution_count": 11,
   "metadata": {
    "tags": []
   },
   "outputs": [
    {
     "data": {
      "image/png": "[encoded data removed]",
      "text/plain": [
       "<Figure size 640x480 with 1 Axes>"
      ]
     },
     "metadata": {},
     "output_type": "display_data"
    }
   ],
   "source": [
    "# Generate a bar plot showing the total number of rows (Mouse ID/Timepoints) for each drug regimen using pyplot.\n",
    "mouse = both_cleaned.groupby(['Drug Regimen'])['Mouse ID'].count().sort_values(ascending=False)\n",
    "\n",
    "#Create variables to store values\n",
    "drug = list(mouse.index.values)\n",
    "timepoints = list(mouse)\n",
    "\n",
    "# Set up the plot\n",
    "plt.bar(drug, timepoints)\n",
    "plt.xlabel(\"Drug\")\n",
    "plt.ylabel(\"# of Timepoints\")\n",
    "plt.xticks(rotation=45)\n",
    "plt.xlim(-0.5, len(drug) - 0.5)\n",
    "plt.ylim(0, max(timepoints) + 10)\n",
    "\n",
    "# Show plot\n",
    "plt.show()"
   ]
  },
  {
   "cell_type": "code",
   "execution_count": 12,
   "metadata": {
    "tags": []
   },
   "outputs": [
    {
     "data": {
      "image/png": "[encoded data removed]",
      "text/plain": [
       "<Figure size 400x400 with 1 Axes>"
      ]
     },
     "metadata": {},
     "output_type": "display_data"
    }
   ],
   "source": [
    "# Generate a pie plot showing the distribution of female versus male mice using Pandas\n",
    "male_v_female = pd.DataFrame(both_cleaned['Sex'].value_counts())\n",
    "male_v_female = male_v_female.plot.pie(y='Sex', figsize=(4, 4), autopct='%1.1f%%', legend=False)"
   ]
  },
  {
   "cell_type": "code",
   "execution_count": 13,
   "metadata": {
    "tags": []
   },
   "outputs": [
    {
     "data": {
      "image/png": "[encoded data removed]",
      "text/plain": [
       "<Figure size 400x400 with 1 Axes>"
      ]
     },
     "metadata": {},
     "output_type": "display_data"
    }
   ],
   "source": [
    "# Generate a pie plot showing the distribution of female versus male mice using pyplot\n",
    "sex_counts = both_cleaned['Sex'].value_counts()\n",
    "\n",
    "\n",
    "plt.figure(figsize=(4, 4))\n",
    "plt.pie(sex_counts, labels=sex_counts.index, autopct='%1.1f%%')\n",
    "\n",
    "# Show the plot\n",
    "plt.show()"
   ]
  },
  {
   "cell_type": "markdown",
   "metadata": {},
   "source": [
    "## Quartiles, Outliers and Boxplots"
   ]
  },
  {
   "cell_type": "code",
   "execution_count": 14,
   "metadata": {
    "tags": []
   },
   "outputs": [],
   "source": [
    "# Calculate the final tumor volume of each mouse across four of the treatment regimens:  \n",
    "# Capomulin, Ramicane, Infubinol, and Ceftamin\n",
    "\n",
    "# Start by getting the last (greatest) timepoint for each mouse\n",
    "Capomulin = both_cleaned.loc[both_cleaned['Drug Regimen'] == \"Capomulin\"].nlargest(1,['Timepoint'])['Tumor Volume (mm3)']\n",
    "Ramicane = both_cleaned.loc[both_cleaned['Drug Regimen'] == \"Ramicane\"].nlargest(1,['Timepoint'])['Tumor Volume (mm3)']\n",
    "Infubinol = both_cleaned.loc[both_cleaned['Drug Regimen'] == \"Infubinol\"].nlargest(1,['Timepoint'])['Tumor Volume (mm3)']\n",
    "Ceftamin = both_cleaned.loc[both_cleaned['Drug Regimen'] == \"Ceftamin\"].nlargest(1,['Timepoint'])['Tumor Volume (mm3)']\n",
    "\n",
    "#Put each location of the greatest timepoint into a dataframe\n",
    "Capomulin = pd.DataFrame({\"Drug Regimen\" : [\"Capomulin\"], \"Final Tumor Voulume (mm3)\" : Capomulin}).set_index('Drug Regimen', drop=True)\n",
    "Ramicane = pd.DataFrame({\"Drug Regimen\" : [\"Ramicane\"], \"Final Tumor Voulume (mm3)\" : Ramicane}).set_index('Drug Regimen', drop=True)\n",
    "Infubinol = pd.DataFrame({\"Drug Regimen\" : [\"Infubinol\"], \"Final Tumor Voulume (mm3)\" : Infubinol}).set_index('Drug Regimen', drop=True)\n",
    "Ceftamin = pd.DataFrame({\"Drug Regimen\" : [\"Ceftamin\"], \"Final Tumor Voulume (mm3)\" : Ceftamin}).set_index('Drug Regimen', drop=True)\n",
    "\n",
    "#Concatonate each df into one\n",
    "tumors = pd.concat([Capomulin, Ramicane, Infubinol, Ceftamin])\n",
    "\n",
    "#Merge these with the og data set\n",
    "final = pd.merge(both, tumors, how=\"right\", on=['Drug Regimen']).fillna(method='ffill')\n"
   ]
  },
  {
   "cell_type": "code",
   "execution_count": 19,
   "metadata": {
    "tags": []
   },
   "outputs": [],
   "source": [
    "# Put treatments into a list for for loop (and later for plot labels)\n",
    "regimen = final['Drug Regimen'].unique()\n",
    "\n",
    "# Create empty list to fill with tumor vol data (for plotting)\n",
    "regimen_vol = []\n",
    "\n",
    "#Create empty lists for each drug in order to combine later\n",
    "Capomulin_vol = []\n",
    "Ramicane_vol = []\n",
    "Infubinol_vol = []\n",
    "Ceftamin_vol = []\n",
    "\n",
    "# Calculate the IQR and quantitatively determine if there are any potential outliers. \n",
    "Q1 = final['Tumor Volume (mm3)'].quantile(0.25)\n",
    "Q3 = final['Tumor Volume (mm3)'].quantile(0.75)\n",
    "IQR = Q3 - Q1\n",
    "\n",
    "IQR_final = ((final['Tumor Volume (mm3)'] >= Q1 - 1.5*IQR) & (final['Tumor Volume (mm3)'] <= Q3 + 1.5*IQR)).value_counts()\n",
    "\n",
    "# Locate the rows which contain mice on each drug and get the tumor volumes\n",
    "for index, row in final.iterrows():\n",
    "        if row['Drug Regimen'] == regimen[0]:\n",
    "            Capomulin_vol.append(row['Tumor Volume (mm3)'])\n",
    "        elif row['Drug Regimen'] == regimen[1]:\n",
    "            Ramicane_vol.append(row['Tumor Volume (mm3)'])\n",
    "        elif row['Drug Regimen'] == regimen[2]:\n",
    "            Infubinol_vol.append(row['Tumor Volume (mm3)'])\n",
    "        elif row['Drug Regimen'] == regimen[3]:\n",
    "            Ceftamin_vol.append(row['Tumor Volume (mm3)'])\n",
    "        else:\n",
    "            print(\"unexpected drug regimen\")     \n",
    "    \n",
    "    # add subset \n",
    "regimen_vol = [Capomulin_vol, Ramicane_vol, Infubinol_vol, Ceftamin_vol]\n",
    "\n",
    "#Add each drug into a dataframe from the subset\n",
    "Capomulin_df = pd.DataFrame({regimen[0] : regimen_vol[0]})\n",
    "Ramicane_df = pd.DataFrame({regimen[1] : regimen_vol[1]})\n",
    "Infubinol_df = pd.DataFrame({regimen[2] : regimen_vol[2]})\n",
    "Ceftamin_df = pd.DataFrame({regimen[3] : regimen_vol[3]})\n",
    "\n",
    "regimen_TV = pd.concat([Capomulin_df, Ramicane_df, Infubinol_df, Ceftamin_df], axis=1)\n",
    "    \n",
    "# Determine outliers for Capomulin\n",
    "Capomulin_Q1 = regimen_TV[regimen[0]].quantile(0.25)\n",
    "Capomulin_Q3 = regimen_TV[regimen[0]].quantile(0.75)\n",
    "Capomulin_IQR = Capomulin_Q3 - Capomulin_Q1\n",
    "\n",
    "Capomulin_IQR_final = ((regimen_TV[regimen[0]] >= Capomulin_Q1 - 1.5*Capomulin_IQR) & (regimen_TV[regimen[0]] <= Capomulin_Q3 + 1.5*Capomulin_IQR)).value_counts()\n",
    "\n",
    "# Determine outliers for Ramicane\n",
    "Ramicane_Q1 = regimen_TV[regimen[1]].quantile(0.25)\n",
    "Ramicane_Q3 = regimen_TV[regimen[1]].quantile(0.75)\n",
    "Ramicane_IQR = Ramicane_Q3 - Ramicane_Q1\n",
    "\n",
    "Capomulin_IQR_final = ((regimen_TV[regimen[1]] >= Ramicane_Q1 - 1.5*Ramicane_IQR) & (regimen_TV[regimen[1]] <= Ramicane_Q3 + 1.5*Ramicane_IQR)).value_counts()\n",
    "\n",
    "# Determine outliers for Infubinol\n",
    "Infubinol_Q1 = regimen_TV[regimen[2]].quantile(0.25)\n",
    "Infubinol_Q3 = regimen_TV[regimen[2]].quantile(0.75)\n",
    "Infubinol_IQR = Infubinol_Q3 - Infubinol_Q1\n",
    "\n",
    "Infubinol_IQR_final = ((regimen_TV[regimen[2]] >= Infubinol_Q1 - 1.5*Infubinol_IQR) & (regimen_TV[regimen[2]] <= Infubinol_Q3 + 1.5*Infubinol_IQR)).value_counts()\n",
    "\n",
    "# Determine outliers for Ceftamin\n",
    "Ceftamin_Q1 = regimen_TV[regimen[3]].quantile(0.25)\n",
    "Ceftamin_Q3 = regimen_TV[regimen[3]].quantile(0.75)\n",
    "Ceftamin_IQR = Ceftamin_Q3 - Ceftamin_Q1\n",
    "\n",
    "Ceftamin_IQR_final = ((regimen_TV[regimen[3]] >= Ceftamin_Q1 - 1.5*Ceftamin_IQR) & (regimen_TV[regimen[3]] <= Ceftamin_Q3 + 1.5*Ceftamin_IQR)).value_counts()"
   ]
  },
  {
   "cell_type": "code",
   "execution_count": 22,
   "metadata": {
    "tags": []
   },
   "outputs": [
    {
     "data": {
      "image/png": "[encoded data removed]",
      "text/plain": [
       "<Figure size 640x480 with 1 Axes>"
      ]
     },
     "metadata": {},
     "output_type": "display_data"
    }
   ],
   "source": [
    "# Generate a box plot that shows the distrubution of the tumor volume for each treatment group.\n",
    "fig1, ax1 = plt.subplots()\n",
    "ax1.boxplot(regimen_vol)\n",
    "plt.xticks([1, 2, 3, 4], regimen)\n",
    "ax1.set_ylabel(\"Final Tumor Voulume\")\n",
    "plt.show()"
   ]
  },
  {
   "cell_type": "markdown",
   "metadata": {},
   "source": [
    "## Line and Scatter Plots"
   ]
  },
  {
   "cell_type": "code",
   "execution_count": 32,
   "metadata": {
    "tags": []
   },
   "outputs": [
    {
     "data": {
      "image/png": "[encoded data removed]",
      "text/plain": [
       "<Figure size 640x480 with 1 Axes>"
      ]
     },
     "metadata": {},
     "output_type": "display_data"
    }
   ],
   "source": [
    "# Generate a line plot of tumor volume vs. time point for a single mouse treated with Capomulin\n",
    "\n",
    "\n",
    "#This shows the mouse in index 7, with Capomulin\n",
    "mouse = final[final['Drug Regimen'] == regimen[0]].iloc[7]['Mouse ID']\n",
    "# Get the tumor volumes and timepoints for this mouse\n",
    "tumor_vol = final[final['Mouse ID'] == mouse]['Tumor Volume (mm3)'].tolist() \n",
    "timepoints = final[final['Mouse ID'] == mouse]['Timepoint'].tolist() \n",
    "\n",
    "# Making the title an F string so it's changable with the mouse variable\n",
    "title = (f\"{regimen[0]} treatment for mouse {mouse}\")\n",
    "\n",
    "# Plot the line graph with x and y labels, and the title\n",
    "plt.plot(timepoints, tumor_vol)\n",
    "\n",
    "plt.ylabel(\"Tumor Volume\")  \n",
    "plt.xlabel(\"Timepoint\")  \n",
    "plt.title(title) \n",
    "plt.show()"
   ]
  },
  {
   "cell_type": "code",
   "execution_count": 33,
   "metadata": {
    "tags": []
   },
   "outputs": [
    {
     "data": {
      "image/png": "[encoded data removed]",
      "text/plain": [
       "<Figure size 640x480 with 1 Axes>"
      ]
     },
     "metadata": {},
     "output_type": "display_data"
    }
   ],
   "source": [
    "# Generate a scatter plot of mouse weight vs. the average observed tumor volume for the entire Capomulin regimen\n",
    "Capomulin = final.loc[final['Drug Regimen'] == regimen[0]]\n",
    "\n",
    "#Find averages of weight and volume\n",
    "avg_weight = Capomulin.groupby(\"Mouse ID\")[\"Weight (g)\"].mean().tolist()\n",
    "avg_tumor_vol = Capomulin.groupby(\"Mouse ID\")['Tumor Volume (mm3)'].mean().tolist()\n",
    "\n",
    "# Plot\n",
    "plt.scatter(avg_weight, avg_tumor_vol)\n",
    "plt.xlabel(\"Weight in Grams\") \n",
    "plt.ylabel(\"Average Tumor Volume in mm3\")\n",
    "plt.show()"
   ]
  },
  {
   "cell_type": "markdown",
   "metadata": {},
   "source": [
    "## Correlation and Regression"
   ]
  },
  {
   "cell_type": "code",
   "execution_count": 35,
   "metadata": {
    "tags": []
   },
   "outputs": [
    {
     "name": "stdout",
     "output_type": "stream",
     "text": [
      "Correlation Coefficient:0.84\n"
     ]
    },
    {
     "data": {
      "image/png": "[encoded data removed]",
      "text/plain": [
       "<Figure size 640x480 with 1 Axes>"
      ]
     },
     "metadata": {},
     "output_type": "display_data"
    }
   ],
   "source": [
    "# Calculate the correlation coefficient and a linear regression model \n",
    "# for mouse weight and average observed tumor volume for the entire Capomulin regimen\n",
    "results = st.linregress(avg_weight, avg_tumor_vol)\n",
    "\n",
    "#Make series so use pearsonr\n",
    "avg_weight = pd.Series(avg_weight)\n",
    "\n",
    "print(f\"Correlation Coefficient:{round(st.pearsonr(avg_weight,avg_tumor_vol)[0],2)}\")\n",
    "\n",
    "# Plot the scatter plot of the average weight and tumor volume\n",
    "plt.scatter(avg_weight, avg_tumor_vol)\n",
    "plt.plot(avg_weight, results.intercept + results.slope*(avg_weight), 'r')\n",
    "plt.xlabel(\"Weigh in Grams\") \n",
    "plt.ylabel(\"Average Tumor Volume in mm3\")\n",
    "plt.show()"
   ]
  },
  {
   "cell_type": "code",
   "execution_count": null,
   "metadata": {},
   "outputs": [],
   "source": []
  }
 ],
 "metadata": {
  "anaconda-cloud": {},
  "kernelspec": {
   "display_name": "Python 3 (ipykernel)",
   "language": "python",
   "name": "python3"
  },
  "language_info": {
   "codemirror_mode": {
    "name": "ipython",
    "version": 3
   },
   "file_extension": ".py",
   "mimetype": "text/x-python",
   "name": "python",
   "nbconvert_exporter": "python",
   "pygments_lexer": "ipython3",
   "version": "3.10.11"
  }
 },
 "nbformat": 4,
 "nbformat_minor": 4
}
